{
  "cells": [
    {
      "cell_type": "code",
      "metadata": {
        "id": "VB9KRG7UGGMZ",
        "colab_type": "code",
        "colab": {},
        "tags": []
      },
      "source": [
        "!pip install git+https://github.com/dpguthrie/yahooquery.git"
      ],
      "execution_count": 1,
      "outputs": [
        {
          "output_type": "stream",
          "name": "stdout",
          "text": "Collecting git+https://github.com/dpguthrie/yahooquery.git\n  Cloning https://github.com/dpguthrie/yahooquery.git to /tmp/pip-req-build-swi5xcz7\n  Running command git clone -q https://github.com/dpguthrie/yahooquery.git /tmp/pip-req-build-swi5xcz7\nRequirement already satisfied: lxml==4.5.0 in /home/rodrigo/anaconda3/lib/python3.7/site-packages (from yahooquery==2.2.4) (4.5.0)\nRequirement already satisfied: pandas>=0.24 in /home/rodrigo/anaconda3/lib/python3.7/site-packages (from yahooquery==2.2.4) (1.0.1)\nRequirement already satisfied: requests-futures==1.0.0 in /home/rodrigo/anaconda3/lib/python3.7/site-packages (from yahooquery==2.2.4) (1.0.0)\nRequirement already satisfied: selenium==3.141.0 in /home/rodrigo/anaconda3/lib/python3.7/site-packages (from yahooquery==2.2.4) (3.141.0)\nRequirement already satisfied: pytz>=2017.2 in /home/rodrigo/anaconda3/lib/python3.7/site-packages (from pandas>=0.24->yahooquery==2.2.4) (2019.3)\nRequirement already satisfied: python-dateutil>=2.6.1 in /home/rodrigo/anaconda3/lib/python3.7/site-packages (from pandas>=0.24->yahooquery==2.2.4) (2.8.1)\nRequirement already satisfied: numpy>=1.13.3 in /home/rodrigo/anaconda3/lib/python3.7/site-packages (from pandas>=0.24->yahooquery==2.2.4) (1.18.1)\nRequirement already satisfied: requests>=1.2.0 in /home/rodrigo/anaconda3/lib/python3.7/site-packages (from requests-futures==1.0.0->yahooquery==2.2.4) (2.22.0)\nRequirement already satisfied: urllib3 in /home/rodrigo/anaconda3/lib/python3.7/site-packages (from selenium==3.141.0->yahooquery==2.2.4) (1.25.8)\nRequirement already satisfied: six>=1.5 in /home/rodrigo/anaconda3/lib/python3.7/site-packages (from python-dateutil>=2.6.1->pandas>=0.24->yahooquery==2.2.4) (1.14.0)\nRequirement already satisfied: certifi>=2017.4.17 in /home/rodrigo/anaconda3/lib/python3.7/site-packages (from requests>=1.2.0->requests-futures==1.0.0->yahooquery==2.2.4) (2019.11.28)\nRequirement already satisfied: chardet<3.1.0,>=3.0.2 in /home/rodrigo/anaconda3/lib/python3.7/site-packages (from requests>=1.2.0->requests-futures==1.0.0->yahooquery==2.2.4) (3.0.4)\nRequirement already satisfied: idna<2.9,>=2.5 in /home/rodrigo/anaconda3/lib/python3.7/site-packages (from requests>=1.2.0->requests-futures==1.0.0->yahooquery==2.2.4) (2.8)\nBuilding wheels for collected packages: yahooquery\n  Building wheel for yahooquery (setup.py) ... \u001b[?25ldone\n\u001b[?25h  Created wheel for yahooquery: filename=yahooquery-2.2.4-py3-none-any.whl size=45988 sha256=56fad9db1c339369005699b56b3b438cb04688ace02c6cc6c4a5cd9703e500d9\n  Stored in directory: /tmp/pip-ephem-wheel-cache-dy2ko8b8/wheels/16/cb/78/28d61d2a39f8935584b4dccd456b3f70aafbfee09c917fc05c\nSuccessfully built yahooquery\nInstalling collected packages: yahooquery\nSuccessfully installed yahooquery-2.2.4\n"
        }
      ]
    },
    {
      "cell_type": "code",
      "metadata": {
        "id": "oY8C9teTE1ha",
        "colab_type": "code",
        "colab": {}
      },
      "source": [
        "from yahooquery import Ticker\n",
        "petr = Ticker(\"PETR4.SA\")"
      ],
      "execution_count": 2,
      "outputs": []
    },
    {
      "cell_type": "code",
      "metadata": {
        "id": "1-fxIWjjMZFy",
        "colab_type": "code",
        "outputId": "e348e1a1-6c92-47af-bdb6-3346dad4ae99",
        "colab": {
          "base_uri": "https://localhost:8080/",
          "height": 428
        }
      },
      "source": [
        "petr.history(period='max')"
      ],
      "execution_count": 3,
      "outputs": [
        {
          "output_type": "execute_result",
          "data": {
            "text/plain": "                           low      close       open       high        volume  \\\n2000-01-03 12:00:00   5.875000   5.875000   5.875000   5.875000  3.538944e+10   \n2000-01-04 12:00:00   5.550000   5.550000   5.550000   5.550000  2.886144e+10   \n2000-01-05 12:00:00   5.494000   5.494000   5.494000   5.494000  4.303360e+10   \n2000-01-06 12:00:00   5.475000   5.475000   5.475000   5.475000  3.405568e+10   \n2000-01-07 12:00:00   5.500000   5.500000   5.500000   5.500000  2.091264e+10   \n...                        ...        ...        ...        ...           ...   \n2020-06-25 13:00:00  20.730000  21.469999  20.910000  21.469999  4.726350e+07   \n2020-06-26 13:00:00  20.780001  20.840000  21.209999  21.469999  5.549930e+07   \n2020-06-29 13:00:00  20.930000  21.660000  21.100000  21.660000  5.980960e+07   \n2020-06-30 13:00:00  21.090000  21.549999  21.340000  21.799999  6.501060e+07   \n2020-07-01 13:57:58  21.740000  22.080000  21.750000  22.180000  1.353410e+07   \n\n                      adjclose  dividends  splits  \n2000-01-03 12:00:00   4.050183        0.0     0.0  \n2000-01-04 12:00:00   3.826131        0.0     0.0  \n2000-01-05 12:00:00   3.787526        0.0     0.0  \n2000-01-06 12:00:00   3.774427        0.0     0.0  \n2000-01-07 12:00:00   3.791661        0.0     0.0  \n...                        ...        ...     ...  \n2020-06-25 13:00:00  21.469999        0.0     0.0  \n2020-06-26 13:00:00  20.840000        0.0     0.0  \n2020-06-29 13:00:00  21.660000        0.0     0.0  \n2020-06-30 13:00:00  21.549999        0.0     0.0  \n2020-07-01 13:57:58  22.080000        0.0     0.0  \n\n[5158 rows x 8 columns]",
            "text/html": "<div>\n<style scoped>\n    .dataframe tbody tr th:only-of-type {\n        vertical-align: middle;\n    }\n\n    .dataframe tbody tr th {\n        vertical-align: top;\n    }\n\n    .dataframe thead th {\n        text-align: right;\n    }\n</style>\n<table border=\"1\" class=\"dataframe\">\n  <thead>\n    <tr style=\"text-align: right;\">\n      <th></th>\n      <th>low</th>\n      <th>close</th>\n      <th>open</th>\n      <th>high</th>\n      <th>volume</th>\n      <th>adjclose</th>\n      <th>dividends</th>\n      <th>splits</th>\n    </tr>\n  </thead>\n  <tbody>\n    <tr>\n      <th>2000-01-03 12:00:00</th>\n      <td>5.875000</td>\n      <td>5.875000</td>\n      <td>5.875000</td>\n      <td>5.875000</td>\n      <td>3.538944e+10</td>\n      <td>4.050183</td>\n      <td>0.0</td>\n      <td>0.0</td>\n    </tr>\n    <tr>\n      <th>2000-01-04 12:00:00</th>\n      <td>5.550000</td>\n      <td>5.550000</td>\n      <td>5.550000</td>\n      <td>5.550000</td>\n      <td>2.886144e+10</td>\n      <td>3.826131</td>\n      <td>0.0</td>\n      <td>0.0</td>\n    </tr>\n    <tr>\n      <th>2000-01-05 12:00:00</th>\n      <td>5.494000</td>\n      <td>5.494000</td>\n      <td>5.494000</td>\n      <td>5.494000</td>\n      <td>4.303360e+10</td>\n      <td>3.787526</td>\n      <td>0.0</td>\n      <td>0.0</td>\n    </tr>\n    <tr>\n      <th>2000-01-06 12:00:00</th>\n      <td>5.475000</td>\n      <td>5.475000</td>\n      <td>5.475000</td>\n      <td>5.475000</td>\n      <td>3.405568e+10</td>\n      <td>3.774427</td>\n      <td>0.0</td>\n      <td>0.0</td>\n    </tr>\n    <tr>\n      <th>2000-01-07 12:00:00</th>\n      <td>5.500000</td>\n      <td>5.500000</td>\n      <td>5.500000</td>\n      <td>5.500000</td>\n      <td>2.091264e+10</td>\n      <td>3.791661</td>\n      <td>0.0</td>\n      <td>0.0</td>\n    </tr>\n    <tr>\n      <th>...</th>\n      <td>...</td>\n      <td>...</td>\n      <td>...</td>\n      <td>...</td>\n      <td>...</td>\n      <td>...</td>\n      <td>...</td>\n      <td>...</td>\n    </tr>\n    <tr>\n      <th>2020-06-25 13:00:00</th>\n      <td>20.730000</td>\n      <td>21.469999</td>\n      <td>20.910000</td>\n      <td>21.469999</td>\n      <td>4.726350e+07</td>\n      <td>21.469999</td>\n      <td>0.0</td>\n      <td>0.0</td>\n    </tr>\n    <tr>\n      <th>2020-06-26 13:00:00</th>\n      <td>20.780001</td>\n      <td>20.840000</td>\n      <td>21.209999</td>\n      <td>21.469999</td>\n      <td>5.549930e+07</td>\n      <td>20.840000</td>\n      <td>0.0</td>\n      <td>0.0</td>\n    </tr>\n    <tr>\n      <th>2020-06-29 13:00:00</th>\n      <td>20.930000</td>\n      <td>21.660000</td>\n      <td>21.100000</td>\n      <td>21.660000</td>\n      <td>5.980960e+07</td>\n      <td>21.660000</td>\n      <td>0.0</td>\n      <td>0.0</td>\n    </tr>\n    <tr>\n      <th>2020-06-30 13:00:00</th>\n      <td>21.090000</td>\n      <td>21.549999</td>\n      <td>21.340000</td>\n      <td>21.799999</td>\n      <td>6.501060e+07</td>\n      <td>21.549999</td>\n      <td>0.0</td>\n      <td>0.0</td>\n    </tr>\n    <tr>\n      <th>2020-07-01 13:57:58</th>\n      <td>21.740000</td>\n      <td>22.080000</td>\n      <td>21.750000</td>\n      <td>22.180000</td>\n      <td>1.353410e+07</td>\n      <td>22.080000</td>\n      <td>0.0</td>\n      <td>0.0</td>\n    </tr>\n  </tbody>\n</table>\n<p>5158 rows × 8 columns</p>\n</div>"
          },
          "metadata": {},
          "execution_count": 3
        }
      ]
    },
    {
      "cell_type": "code",
      "metadata": {
        "id": "kjM4P57RIwNX",
        "colab_type": "code",
        "outputId": "14a22525-7ffd-44c2-ea39-84d68697d203",
        "colab": {
          "base_uri": "https://localhost:8080/",
          "height": 428
        }
      },
      "source": [
        "petr.history(start='2005-05-01', end='2013-12-31')"
      ],
      "execution_count": 4,
      "outputs": [
        {
          "output_type": "execute_result",
          "data": {
            "text/plain": "                         volume       open        low       high      close  \\\n2005-05-02 13:00:00  19004800.0  11.811200  11.475000  11.811200  11.775000   \n2005-05-03 13:00:00  22736000.0  11.775000  11.568800  11.825000  11.727500   \n2005-05-04 13:00:00  27260800.0  11.750000  11.750000  11.971200  11.903800   \n2005-05-05 13:00:00  31670400.0  12.000000  11.925000  12.125000  12.125000   \n2005-05-06 13:00:00  29177600.0  12.188800  12.187500  12.475000  12.341300   \n...                         ...        ...        ...        ...        ...   \n2013-12-20 12:00:00  26875500.0  17.250000  16.799999  17.290001  16.910000   \n2013-12-23 12:00:00  11520400.0  17.020000  16.870001  17.170000  17.059999   \n2013-12-26 12:00:00  15294800.0  17.150000  16.889999  17.190001  16.920000   \n2013-12-27 12:00:00  15114200.0  17.000000  16.820000  17.020000  16.930000   \n2013-12-30 12:00:00  10598500.0  16.950001  16.950001  17.250000  17.080000   \n\n                      adjclose  dividends  splits  \n2005-05-02 13:00:00   8.541433        0.0     0.0  \n2005-05-03 13:00:00   8.506978        0.0     0.0  \n2005-05-04 13:00:00   8.634863        0.0     0.0  \n2005-05-05 13:00:00   8.795320        0.0     0.0  \n2005-05-06 13:00:00   8.952221        0.0     0.0  \n...                        ...        ...     ...  \n2013-12-20 12:00:00  14.712623        0.0     0.0  \n2013-12-23 12:00:00  14.843129        0.0     0.0  \n2013-12-26 12:00:00  14.721321        0.0     0.0  \n2013-12-27 12:00:00  14.730024        0.0     0.0  \n2013-12-30 12:00:00  14.860531        0.0     0.0  \n\n[2158 rows x 8 columns]",
            "text/html": "<div>\n<style scoped>\n    .dataframe tbody tr th:only-of-type {\n        vertical-align: middle;\n    }\n\n    .dataframe tbody tr th {\n        vertical-align: top;\n    }\n\n    .dataframe thead th {\n        text-align: right;\n    }\n</style>\n<table border=\"1\" class=\"dataframe\">\n  <thead>\n    <tr style=\"text-align: right;\">\n      <th></th>\n      <th>volume</th>\n      <th>open</th>\n      <th>low</th>\n      <th>high</th>\n      <th>close</th>\n      <th>adjclose</th>\n      <th>dividends</th>\n      <th>splits</th>\n    </tr>\n  </thead>\n  <tbody>\n    <tr>\n      <th>2005-05-02 13:00:00</th>\n      <td>19004800.0</td>\n      <td>11.811200</td>\n      <td>11.475000</td>\n      <td>11.811200</td>\n      <td>11.775000</td>\n      <td>8.541433</td>\n      <td>0.0</td>\n      <td>0.0</td>\n    </tr>\n    <tr>\n      <th>2005-05-03 13:00:00</th>\n      <td>22736000.0</td>\n      <td>11.775000</td>\n      <td>11.568800</td>\n      <td>11.825000</td>\n      <td>11.727500</td>\n      <td>8.506978</td>\n      <td>0.0</td>\n      <td>0.0</td>\n    </tr>\n    <tr>\n      <th>2005-05-04 13:00:00</th>\n      <td>27260800.0</td>\n      <td>11.750000</td>\n      <td>11.750000</td>\n      <td>11.971200</td>\n      <td>11.903800</td>\n      <td>8.634863</td>\n      <td>0.0</td>\n      <td>0.0</td>\n    </tr>\n    <tr>\n      <th>2005-05-05 13:00:00</th>\n      <td>31670400.0</td>\n      <td>12.000000</td>\n      <td>11.925000</td>\n      <td>12.125000</td>\n      <td>12.125000</td>\n      <td>8.795320</td>\n      <td>0.0</td>\n      <td>0.0</td>\n    </tr>\n    <tr>\n      <th>2005-05-06 13:00:00</th>\n      <td>29177600.0</td>\n      <td>12.188800</td>\n      <td>12.187500</td>\n      <td>12.475000</td>\n      <td>12.341300</td>\n      <td>8.952221</td>\n      <td>0.0</td>\n      <td>0.0</td>\n    </tr>\n    <tr>\n      <th>...</th>\n      <td>...</td>\n      <td>...</td>\n      <td>...</td>\n      <td>...</td>\n      <td>...</td>\n      <td>...</td>\n      <td>...</td>\n      <td>...</td>\n    </tr>\n    <tr>\n      <th>2013-12-20 12:00:00</th>\n      <td>26875500.0</td>\n      <td>17.250000</td>\n      <td>16.799999</td>\n      <td>17.290001</td>\n      <td>16.910000</td>\n      <td>14.712623</td>\n      <td>0.0</td>\n      <td>0.0</td>\n    </tr>\n    <tr>\n      <th>2013-12-23 12:00:00</th>\n      <td>11520400.0</td>\n      <td>17.020000</td>\n      <td>16.870001</td>\n      <td>17.170000</td>\n      <td>17.059999</td>\n      <td>14.843129</td>\n      <td>0.0</td>\n      <td>0.0</td>\n    </tr>\n    <tr>\n      <th>2013-12-26 12:00:00</th>\n      <td>15294800.0</td>\n      <td>17.150000</td>\n      <td>16.889999</td>\n      <td>17.190001</td>\n      <td>16.920000</td>\n      <td>14.721321</td>\n      <td>0.0</td>\n      <td>0.0</td>\n    </tr>\n    <tr>\n      <th>2013-12-27 12:00:00</th>\n      <td>15114200.0</td>\n      <td>17.000000</td>\n      <td>16.820000</td>\n      <td>17.020000</td>\n      <td>16.930000</td>\n      <td>14.730024</td>\n      <td>0.0</td>\n      <td>0.0</td>\n    </tr>\n    <tr>\n      <th>2013-12-30 12:00:00</th>\n      <td>10598500.0</td>\n      <td>16.950001</td>\n      <td>16.950001</td>\n      <td>17.250000</td>\n      <td>17.080000</td>\n      <td>14.860531</td>\n      <td>0.0</td>\n      <td>0.0</td>\n    </tr>\n  </tbody>\n</table>\n<p>2158 rows × 8 columns</p>\n</div>"
          },
          "metadata": {},
          "execution_count": 4
        }
      ]
    },
    {
      "cell_type": "code",
      "metadata": {
        "id": "AmUEfE0uNgTe",
        "colab_type": "code",
        "outputId": "69ce0a23-598f-4219-acb7-cf5928332d1f",
        "colab": {
          "base_uri": "https://localhost:8080/",
          "height": 446
        }
      },
      "source": [
        "abev = Ticker('ABEV3.SA')\n",
        "abev.history(period='60d',  interval = \"30m\")"
      ],
      "execution_count": 15,
      "outputs": [
        {
          "output_type": "execute_result",
          "data": {
            "text/plain": "                      open  close   volume    low   high\n2020-04-03 13:00:00  11.94  11.75   697300  11.72  11.94\n2020-04-03 13:30:00  11.69  11.52  1381000  11.50  11.80\n2020-04-03 14:00:00  11.51  11.42  3739800  11.40  11.61\n2020-04-03 14:30:00  11.42  11.39  1658000  11.31  11.43\n2020-04-03 15:00:00  11.38  11.28  1299500  11.27  11.42\n...                    ...    ...      ...    ...    ...\n2020-06-30 19:00:00  14.24  14.18  1374200  14.11  14.24\n2020-06-30 19:30:00  14.18  14.28  2202600  14.15  14.30\n2020-07-01 13:00:00  14.26  14.35   722000  14.26  14.44\n2020-07-01 13:30:00  14.35  14.47  3082500  14.24  14.50\n2020-07-01 13:59:30  14.48  14.48        0  14.48  14.48\n\n[829 rows x 5 columns]",
            "text/html": "<div>\n<style scoped>\n    .dataframe tbody tr th:only-of-type {\n        vertical-align: middle;\n    }\n\n    .dataframe tbody tr th {\n        vertical-align: top;\n    }\n\n    .dataframe thead th {\n        text-align: right;\n    }\n</style>\n<table border=\"1\" class=\"dataframe\">\n  <thead>\n    <tr style=\"text-align: right;\">\n      <th></th>\n      <th>open</th>\n      <th>close</th>\n      <th>volume</th>\n      <th>low</th>\n      <th>high</th>\n    </tr>\n  </thead>\n  <tbody>\n    <tr>\n      <th>2020-04-03 13:00:00</th>\n      <td>11.94</td>\n      <td>11.75</td>\n      <td>697300</td>\n      <td>11.72</td>\n      <td>11.94</td>\n    </tr>\n    <tr>\n      <th>2020-04-03 13:30:00</th>\n      <td>11.69</td>\n      <td>11.52</td>\n      <td>1381000</td>\n      <td>11.50</td>\n      <td>11.80</td>\n    </tr>\n    <tr>\n      <th>2020-04-03 14:00:00</th>\n      <td>11.51</td>\n      <td>11.42</td>\n      <td>3739800</td>\n      <td>11.40</td>\n      <td>11.61</td>\n    </tr>\n    <tr>\n      <th>2020-04-03 14:30:00</th>\n      <td>11.42</td>\n      <td>11.39</td>\n      <td>1658000</td>\n      <td>11.31</td>\n      <td>11.43</td>\n    </tr>\n    <tr>\n      <th>2020-04-03 15:00:00</th>\n      <td>11.38</td>\n      <td>11.28</td>\n      <td>1299500</td>\n      <td>11.27</td>\n      <td>11.42</td>\n    </tr>\n    <tr>\n      <th>...</th>\n      <td>...</td>\n      <td>...</td>\n      <td>...</td>\n      <td>...</td>\n      <td>...</td>\n    </tr>\n    <tr>\n      <th>2020-06-30 19:00:00</th>\n      <td>14.24</td>\n      <td>14.18</td>\n      <td>1374200</td>\n      <td>14.11</td>\n      <td>14.24</td>\n    </tr>\n    <tr>\n      <th>2020-06-30 19:30:00</th>\n      <td>14.18</td>\n      <td>14.28</td>\n      <td>2202600</td>\n      <td>14.15</td>\n      <td>14.30</td>\n    </tr>\n    <tr>\n      <th>2020-07-01 13:00:00</th>\n      <td>14.26</td>\n      <td>14.35</td>\n      <td>722000</td>\n      <td>14.26</td>\n      <td>14.44</td>\n    </tr>\n    <tr>\n      <th>2020-07-01 13:30:00</th>\n      <td>14.35</td>\n      <td>14.47</td>\n      <td>3082500</td>\n      <td>14.24</td>\n      <td>14.50</td>\n    </tr>\n    <tr>\n      <th>2020-07-01 13:59:30</th>\n      <td>14.48</td>\n      <td>14.48</td>\n      <td>0</td>\n      <td>14.48</td>\n      <td>14.48</td>\n    </tr>\n  </tbody>\n</table>\n<p>829 rows × 5 columns</p>\n</div>"
          },
          "metadata": {},
          "execution_count": 15
        }
      ]
    },
    {
      "cell_type": "code",
      "metadata": {
        "id": "I6gp8Bd9TgwX",
        "colab_type": "code",
        "outputId": "e8f6acb9-cc6e-4898-8007-88070ab0b402",
        "colab": {
          "base_uri": "https://localhost:8080/",
          "height": 35
        }
      },
      "source": [
        "len(set(list(petr.index.date)))"
      ],
      "execution_count": 0,
      "outputs": [
        {
          "output_type": "execute_result",
          "data": {
            "text/plain": [
              "60"
            ]
          },
          "metadata": {
            "tags": []
          },
          "execution_count": 91
        }
      ]
    },
    {
      "cell_type": "code",
      "metadata": {
        "id": "OzmoSDYLRbmn",
        "colab_type": "code",
        "outputId": "295878de-50d2-4191-9a6e-20422e6192a5",
        "colab": {
          "base_uri": "https://localhost:8080/",
          "height": 446
        }
      },
      "source": [
        "abev = abev.history(period='7d',  interval = \"1m\")\n",
        "abev"
      ],
      "execution_count": 16,
      "outputs": [
        {
          "output_type": "execute_result",
          "data": {
            "text/plain": "                      open  close   high    volume    low\n2020-06-23 13:10:00  14.26  14.23  14.32       0.0  14.23\n2020-06-23 13:11:00  14.23  14.23  14.25   64200.0  14.21\n2020-06-23 13:12:00  14.22  14.19  14.23   93700.0  14.18\n2020-06-23 13:13:00  14.19  14.18  14.19   24300.0  14.16\n2020-06-23 13:14:00  14.18  14.18  14.18    4400.0  14.16\n...                    ...    ...    ...       ...    ...\n2020-07-01 13:56:00  14.42  14.43  14.43   71900.0  14.40\n2020-07-01 13:57:00  14.41  14.44  14.44  107600.0  14.41\n2020-07-01 13:58:00  14.43  14.47  14.50  179700.0  14.42\n2020-07-01 13:59:00  14.43  14.47  14.50  179700.0  14.42\n2020-07-01 13:59:21  14.47  14.47  14.47       0.0  14.47\n\n[2571 rows x 5 columns]",
            "text/html": "<div>\n<style scoped>\n    .dataframe tbody tr th:only-of-type {\n        vertical-align: middle;\n    }\n\n    .dataframe tbody tr th {\n        vertical-align: top;\n    }\n\n    .dataframe thead th {\n        text-align: right;\n    }\n</style>\n<table border=\"1\" class=\"dataframe\">\n  <thead>\n    <tr style=\"text-align: right;\">\n      <th></th>\n      <th>open</th>\n      <th>close</th>\n      <th>high</th>\n      <th>volume</th>\n      <th>low</th>\n    </tr>\n  </thead>\n  <tbody>\n    <tr>\n      <th>2020-06-23 13:10:00</th>\n      <td>14.26</td>\n      <td>14.23</td>\n      <td>14.32</td>\n      <td>0.0</td>\n      <td>14.23</td>\n    </tr>\n    <tr>\n      <th>2020-06-23 13:11:00</th>\n      <td>14.23</td>\n      <td>14.23</td>\n      <td>14.25</td>\n      <td>64200.0</td>\n      <td>14.21</td>\n    </tr>\n    <tr>\n      <th>2020-06-23 13:12:00</th>\n      <td>14.22</td>\n      <td>14.19</td>\n      <td>14.23</td>\n      <td>93700.0</td>\n      <td>14.18</td>\n    </tr>\n    <tr>\n      <th>2020-06-23 13:13:00</th>\n      <td>14.19</td>\n      <td>14.18</td>\n      <td>14.19</td>\n      <td>24300.0</td>\n      <td>14.16</td>\n    </tr>\n    <tr>\n      <th>2020-06-23 13:14:00</th>\n      <td>14.18</td>\n      <td>14.18</td>\n      <td>14.18</td>\n      <td>4400.0</td>\n      <td>14.16</td>\n    </tr>\n    <tr>\n      <th>...</th>\n      <td>...</td>\n      <td>...</td>\n      <td>...</td>\n      <td>...</td>\n      <td>...</td>\n    </tr>\n    <tr>\n      <th>2020-07-01 13:56:00</th>\n      <td>14.42</td>\n      <td>14.43</td>\n      <td>14.43</td>\n      <td>71900.0</td>\n      <td>14.40</td>\n    </tr>\n    <tr>\n      <th>2020-07-01 13:57:00</th>\n      <td>14.41</td>\n      <td>14.44</td>\n      <td>14.44</td>\n      <td>107600.0</td>\n      <td>14.41</td>\n    </tr>\n    <tr>\n      <th>2020-07-01 13:58:00</th>\n      <td>14.43</td>\n      <td>14.47</td>\n      <td>14.50</td>\n      <td>179700.0</td>\n      <td>14.42</td>\n    </tr>\n    <tr>\n      <th>2020-07-01 13:59:00</th>\n      <td>14.43</td>\n      <td>14.47</td>\n      <td>14.50</td>\n      <td>179700.0</td>\n      <td>14.42</td>\n    </tr>\n    <tr>\n      <th>2020-07-01 13:59:21</th>\n      <td>14.47</td>\n      <td>14.47</td>\n      <td>14.47</td>\n      <td>0.0</td>\n      <td>14.47</td>\n    </tr>\n  </tbody>\n</table>\n<p>2571 rows × 5 columns</p>\n</div>"
          },
          "metadata": {},
          "execution_count": 16
        }
      ]
    },
    {
      "cell_type": "code",
      "metadata": {
        "id": "lVUaf4K-U0EX",
        "colab_type": "code",
        "outputId": "0d421a4b-5cfb-4558-b294-2c66c27d5fa8",
        "colab": {
          "base_uri": "https://localhost:8080/",
          "height": 35
        }
      },
      "source": [
        "len(set(list(abev.index.date)))"
      ],
      "execution_count": 17,
      "outputs": [
        {
          "output_type": "execute_result",
          "data": {
            "text/plain": "7"
          },
          "metadata": {},
          "execution_count": 17
        }
      ]
    },
    {
      "cell_type": "markdown",
      "metadata": {
        "id": "VlPqRuQlzPp5",
        "colab_type": "text"
      },
      "source": [
        "## Informações financeiras"
      ]
    },
    {
      "cell_type": "code",
      "metadata": {
        "id": "ZNvwlD-sU1XK",
        "colab_type": "code",
        "outputId": "bbf36f9d-c910-43b3-826c-094fb2de0167",
        "colab": {
          "base_uri": "https://localhost:8080/",
          "height": 1000
        }
      },
      "source": [
        "petr = Ticker(\"PETR4.SA\")     # Coleta dados\n",
        "petr.income_statement()       # Chama função de Demonstração de resultados\n",
        "petr = petr.income_statement().transpose() # Transpõe a matriz\n",
        "petr.columns = petr.iloc[0,:] # Renomeia colunas\n",
        "petr = petr.iloc[2:,:-1]         # Seleciona dados\n",
        "petr = petr.iloc[:, ::-1]    # Inverte colunas\n",
        "petr"
      ],
      "execution_count": 18,
      "outputs": [
        {
          "output_type": "execute_result",
          "data": {
            "text/plain": "asOfDate                                             2019-12-31   2018-12-31  \\\nBasicAverageShares                                  1.30445e+10  1.30445e+10   \nBasicEPS                                                   0.78         0.55   \nCostOfRevenue                                        4.5732e+10   6.1517e+10   \nDepreciationAmortizationDepletionIncomeStatement       1.58e+08          NaN   \nDilutedAverageShares                                1.30445e+10  1.30445e+10   \nDilutedEPS                                                 0.78         0.55   \nDilutedNIAvailtoComStockholders                      1.0151e+10    7.173e+09   \nEBIT                                                 1.8687e+10   1.6304e+10   \nEBITDA                                                      NaN          NaN   \nEarningsFromEquityInterest                             1.53e+08     5.23e+08   \nExciseTaxes                                                 NaN          NaN   \nGainOnSaleOfPPE                                       6.046e+09     4.19e+08   \nGainOnSaleOfSecurity                                  -2.82e+09    -3.63e+09   \nGeneralAndAdministrativeExpense                       5.682e+09    5.288e+09   \nGrossProfit                                          3.0857e+10   3.4067e+10   \nImpairmentOfCapitalAssets                             2.848e+09    2.005e+09   \nInterestExpense                                       6.684e+09    4.206e+09   \nInterestExpenseNonOperating                           6.684e+09    4.206e+09   \nInterestIncome                                            5e+06     5.63e+08   \nInterestIncomeNonOperating                                5e+06     5.63e+08   \nMinorityInterests                                     -2.12e+08    -2.41e+08   \nNetIncome                                            1.0151e+10    7.173e+09   \nNetIncomeCommonStockholders                          1.0151e+10    7.173e+09   \nNetIncomeContinuousOperations                         7.803e+09    7.414e+09   \nNetIncomeDiscontinuousOperations                       2.56e+09     8.43e+08   \nNetIncomeFromContinuingAndDiscontinuedOperation      1.0151e+10    7.173e+09   \nNetIncomeFromContinuingOperationNetMinorityInte...    7.591e+09    7.173e+09   \nNetIncomeIncludingNoncontrollingInterests            1.0363e+10    7.414e+09   \nNetInterestIncome                                    -6.314e+09   -2.636e+09   \nNetNonOperatingInterestIncomeExpense                 -6.314e+09   -2.636e+09   \nNormalizedEBITDA                                     3.3145e+10   3.5647e+10   \nNormalizedIncome                                     7.3453e+09  1.16571e+10   \nOperatingExpense                                     1.2355e+10   1.2541e+10   \nOperatingIncome                                      1.8502e+10   2.1526e+10   \nOperatingRevenue                                     7.6589e+10   9.5584e+10   \nOtherGandA                                            2.239e+09    2.678e+09   \nOtherIncomeExpense                                    -1.85e+08   -6.792e+09   \nOtherNonOperatingIncomeExpenses                       -7.16e+08   -2.043e+09   \nOtherOperatingExpenses                                 8.44e+08    1.228e+09   \nOtherSpecialCharges                                    1.52e+09     2.04e+09   \nOtherTaxes                                             6.19e+08     7.52e+08   \nPretaxIncome                                         1.2003e+10   1.2098e+10   \nProvisionForDoubtfulAccounts                                NaN            0   \nReconciledCostOfRevenue                              3.1054e+10   6.1517e+10   \nReconciledDepreciation                               1.4836e+10   1.2028e+10   \nResearchAndDevelopment                                 5.76e+08     6.42e+08   \nSalariesAndWages                                      3.443e+09     2.61e+09   \nSellingAndMarketingExpense                            4.476e+09    4.631e+09   \nSellingGeneralAndAdministration                      1.0158e+10    9.919e+09   \nSpecialIncomeCharges                                  3.198e+09   -3.685e+09   \nTaxEffectOfUnusualItems                               1.323e+08 -2.83090e+09   \nTaxProvision                                            4.2e+09    4.684e+09   \nTaxRateForCalcs                                            0.35        0.387   \nTotalExpenses                                        5.8087e+10   7.4058e+10   \nTotalOperatingIncomeAsReported                       2.0614e+10          NaN   \nTotalOtherFinanceCost                                 -3.65e+08   -1.007e+09   \nTotalRevenue                                         7.6589e+10   9.5584e+10   \nTotalUnusualItems                                      3.78e+08   -7.315e+09   \nTotalUnusualItemsExcludingGoodwill                     3.78e+08   -7.315e+09   \nWriteOff                                              6.046e+09      5.9e+07   \n\nasOfDate                                             2017-12-31   2016-12-31  \nBasicAverageShares                                  1.30445e+10  1.30445e+10  \nBasicEPS                                                  -0.01    -0.370884  \nCostOfRevenue                                        6.0147e+10   5.5417e+10  \nDepreciationAmortizationDepletionIncomeStatement            NaN          NaN  \nDilutedAverageShares                                1.30445e+10  1.30445e+10  \nDilutedEPS                                                -0.01    -0.370884  \nDilutedNIAvailtoComStockholders                        -9.1e+07   -4.838e+09  \nEBIT                                                  7.409e+09     2.37e+09  \nEBITDA                                                      NaN          NaN  \nEarningsFromEquityInterest                             6.73e+08    -2.18e+08  \nExciseTaxes                                                 NaN    2.149e+10  \nGainOnSaleOfPPE                                       1.498e+09     2.93e+08  \nGainOnSaleOfSecurity                                 -3.523e+09   -3.358e+09  \nGeneralAndAdministrativeExpense                       5.074e+09    6.308e+09  \nGrossProfit                                           2.868e+10   2.5988e+10  \nImpairmentOfCapitalAssets                             1.191e+09    6.193e+09  \nInterestExpense                                       5.412e+09    6.035e+09  \nInterestExpenseNonOperating                           5.412e+09    6.035e+09  \nInterestIncome                                         6.04e+08     5.52e+08  \nInterestIncomeNonOperating                             6.04e+08     5.52e+08  \nMinorityInterests                                      -2.6e+08    -4.89e+08  \nNetIncome                                              -9.1e+07   -4.838e+09  \nNetIncomeCommonStockholders                            -9.1e+07   -4.838e+09  \nNetIncomeContinuousOperations                          1.69e+08   -4.349e+09  \nNetIncomeDiscontinuousOperations                            NaN          NaN  \nNetIncomeFromContinuingAndDiscontinuedOperation        -9.1e+07   -4.838e+09  \nNetIncomeFromContinuingOperationNetMinorityInte...     -9.1e+07   -4.838e+09  \nNetIncomeIncludingNoncontrollingInterests              1.69e+08   -4.349e+09  \nNetInterestIncome                                    -6.192e+09   -5.854e+09  \nNetNonOperatingInterestIncomeExpense                 -6.192e+09   -5.854e+09  \nNormalizedEBITDA                                     2.5262e+10   2.7657e+10  \nNormalizedIncome                                    2.90936e+09  4.36679e+09  \nOperatingExpense                                     1.6618e+10   1.2259e+10  \nOperatingIncome                                      1.2062e+10   1.3729e+10  \nOperatingRevenue                                     8.8827e+10  1.02895e+11  \nOtherGandA                                            3.176e+09    3.572e+09  \nOtherIncomeExpense                                   -3.873e+09   -1.154e+10  \nOtherNonOperatingIncomeExpenses                             NaN          NaN  \nOtherOperatingExpenses                                4.591e+09     7.51e+08  \nOtherSpecialCharges                                    8.98e+08    1.393e+09  \nOtherTaxes                                            1.843e+09     7.14e+08  \nPretaxIncome                                          1.997e+09   -3.665e+09  \nProvisionForDoubtfulAccounts                                NaN          NaN  \nReconciledCostOfRevenue                              6.0147e+10   5.5417e+10  \nReconciledDepreciation                               1.3307e+10   1.3965e+10  \nResearchAndDevelopment                                 5.72e+08     5.23e+08  \nSalariesAndWages                                      1.898e+09    2.736e+09  \nSellingAndMarketingExpense                            4.538e+09    3.963e+09  \nSellingGeneralAndAdministration                       9.612e+09   1.0271e+10  \nSpecialIncomeCharges                                 -1.023e+09   -7.964e+09  \nTaxEffectOfUnusualItems                            -1.54564e+09 -2.11721e+09  \nTaxProvision                                          1.828e+09     6.84e+08  \nTaxRateForCalcs                                            0.34        0.187  \nTotalExpenses                                        7.6765e+10   6.7676e+10  \nTotalOperatingIncomeAsReported                              NaN          NaN  \nTotalOtherFinanceCost                                 1.384e+09     3.71e+08  \nTotalRevenue                                         8.8827e+10   8.1405e+10  \nTotalUnusualItems                                    -4.546e+09  -1.1322e+10  \nTotalUnusualItemsExcludingGoodwill                   -4.546e+09  -1.1322e+10  \nWriteOff                                               4.32e+08     6.71e+08  ",
            "text/html": "<div>\n<style scoped>\n    .dataframe tbody tr th:only-of-type {\n        vertical-align: middle;\n    }\n\n    .dataframe tbody tr th {\n        vertical-align: top;\n    }\n\n    .dataframe thead th {\n        text-align: right;\n    }\n</style>\n<table border=\"1\" class=\"dataframe\">\n  <thead>\n    <tr style=\"text-align: right;\">\n      <th>asOfDate</th>\n      <th>2019-12-31</th>\n      <th>2018-12-31</th>\n      <th>2017-12-31</th>\n      <th>2016-12-31</th>\n    </tr>\n  </thead>\n  <tbody>\n    <tr>\n      <th>BasicAverageShares</th>\n      <td>1.30445e+10</td>\n      <td>1.30445e+10</td>\n      <td>1.30445e+10</td>\n      <td>1.30445e+10</td>\n    </tr>\n    <tr>\n      <th>BasicEPS</th>\n      <td>0.78</td>\n      <td>0.55</td>\n      <td>-0.01</td>\n      <td>-0.370884</td>\n    </tr>\n    <tr>\n      <th>CostOfRevenue</th>\n      <td>4.5732e+10</td>\n      <td>6.1517e+10</td>\n      <td>6.0147e+10</td>\n      <td>5.5417e+10</td>\n    </tr>\n    <tr>\n      <th>DepreciationAmortizationDepletionIncomeStatement</th>\n      <td>1.58e+08</td>\n      <td>NaN</td>\n      <td>NaN</td>\n      <td>NaN</td>\n    </tr>\n    <tr>\n      <th>DilutedAverageShares</th>\n      <td>1.30445e+10</td>\n      <td>1.30445e+10</td>\n      <td>1.30445e+10</td>\n      <td>1.30445e+10</td>\n    </tr>\n    <tr>\n      <th>DilutedEPS</th>\n      <td>0.78</td>\n      <td>0.55</td>\n      <td>-0.01</td>\n      <td>-0.370884</td>\n    </tr>\n    <tr>\n      <th>DilutedNIAvailtoComStockholders</th>\n      <td>1.0151e+10</td>\n      <td>7.173e+09</td>\n      <td>-9.1e+07</td>\n      <td>-4.838e+09</td>\n    </tr>\n    <tr>\n      <th>EBIT</th>\n      <td>1.8687e+10</td>\n      <td>1.6304e+10</td>\n      <td>7.409e+09</td>\n      <td>2.37e+09</td>\n    </tr>\n    <tr>\n      <th>EBITDA</th>\n      <td>NaN</td>\n      <td>NaN</td>\n      <td>NaN</td>\n      <td>NaN</td>\n    </tr>\n    <tr>\n      <th>EarningsFromEquityInterest</th>\n      <td>1.53e+08</td>\n      <td>5.23e+08</td>\n      <td>6.73e+08</td>\n      <td>-2.18e+08</td>\n    </tr>\n    <tr>\n      <th>ExciseTaxes</th>\n      <td>NaN</td>\n      <td>NaN</td>\n      <td>NaN</td>\n      <td>2.149e+10</td>\n    </tr>\n    <tr>\n      <th>GainOnSaleOfPPE</th>\n      <td>6.046e+09</td>\n      <td>4.19e+08</td>\n      <td>1.498e+09</td>\n      <td>2.93e+08</td>\n    </tr>\n    <tr>\n      <th>GainOnSaleOfSecurity</th>\n      <td>-2.82e+09</td>\n      <td>-3.63e+09</td>\n      <td>-3.523e+09</td>\n      <td>-3.358e+09</td>\n    </tr>\n    <tr>\n      <th>GeneralAndAdministrativeExpense</th>\n      <td>5.682e+09</td>\n      <td>5.288e+09</td>\n      <td>5.074e+09</td>\n      <td>6.308e+09</td>\n    </tr>\n    <tr>\n      <th>GrossProfit</th>\n      <td>3.0857e+10</td>\n      <td>3.4067e+10</td>\n      <td>2.868e+10</td>\n      <td>2.5988e+10</td>\n    </tr>\n    <tr>\n      <th>ImpairmentOfCapitalAssets</th>\n      <td>2.848e+09</td>\n      <td>2.005e+09</td>\n      <td>1.191e+09</td>\n      <td>6.193e+09</td>\n    </tr>\n    <tr>\n      <th>InterestExpense</th>\n      <td>6.684e+09</td>\n      <td>4.206e+09</td>\n      <td>5.412e+09</td>\n      <td>6.035e+09</td>\n    </tr>\n    <tr>\n      <th>InterestExpenseNonOperating</th>\n      <td>6.684e+09</td>\n      <td>4.206e+09</td>\n      <td>5.412e+09</td>\n      <td>6.035e+09</td>\n    </tr>\n    <tr>\n      <th>InterestIncome</th>\n      <td>5e+06</td>\n      <td>5.63e+08</td>\n      <td>6.04e+08</td>\n      <td>5.52e+08</td>\n    </tr>\n    <tr>\n      <th>InterestIncomeNonOperating</th>\n      <td>5e+06</td>\n      <td>5.63e+08</td>\n      <td>6.04e+08</td>\n      <td>5.52e+08</td>\n    </tr>\n    <tr>\n      <th>MinorityInterests</th>\n      <td>-2.12e+08</td>\n      <td>-2.41e+08</td>\n      <td>-2.6e+08</td>\n      <td>-4.89e+08</td>\n    </tr>\n    <tr>\n      <th>NetIncome</th>\n      <td>1.0151e+10</td>\n      <td>7.173e+09</td>\n      <td>-9.1e+07</td>\n      <td>-4.838e+09</td>\n    </tr>\n    <tr>\n      <th>NetIncomeCommonStockholders</th>\n      <td>1.0151e+10</td>\n      <td>7.173e+09</td>\n      <td>-9.1e+07</td>\n      <td>-4.838e+09</td>\n    </tr>\n    <tr>\n      <th>NetIncomeContinuousOperations</th>\n      <td>7.803e+09</td>\n      <td>7.414e+09</td>\n      <td>1.69e+08</td>\n      <td>-4.349e+09</td>\n    </tr>\n    <tr>\n      <th>NetIncomeDiscontinuousOperations</th>\n      <td>2.56e+09</td>\n      <td>8.43e+08</td>\n      <td>NaN</td>\n      <td>NaN</td>\n    </tr>\n    <tr>\n      <th>NetIncomeFromContinuingAndDiscontinuedOperation</th>\n      <td>1.0151e+10</td>\n      <td>7.173e+09</td>\n      <td>-9.1e+07</td>\n      <td>-4.838e+09</td>\n    </tr>\n    <tr>\n      <th>NetIncomeFromContinuingOperationNetMinorityInterest</th>\n      <td>7.591e+09</td>\n      <td>7.173e+09</td>\n      <td>-9.1e+07</td>\n      <td>-4.838e+09</td>\n    </tr>\n    <tr>\n      <th>NetIncomeIncludingNoncontrollingInterests</th>\n      <td>1.0363e+10</td>\n      <td>7.414e+09</td>\n      <td>1.69e+08</td>\n      <td>-4.349e+09</td>\n    </tr>\n    <tr>\n      <th>NetInterestIncome</th>\n      <td>-6.314e+09</td>\n      <td>-2.636e+09</td>\n      <td>-6.192e+09</td>\n      <td>-5.854e+09</td>\n    </tr>\n    <tr>\n      <th>NetNonOperatingInterestIncomeExpense</th>\n      <td>-6.314e+09</td>\n      <td>-2.636e+09</td>\n      <td>-6.192e+09</td>\n      <td>-5.854e+09</td>\n    </tr>\n    <tr>\n      <th>NormalizedEBITDA</th>\n      <td>3.3145e+10</td>\n      <td>3.5647e+10</td>\n      <td>2.5262e+10</td>\n      <td>2.7657e+10</td>\n    </tr>\n    <tr>\n      <th>NormalizedIncome</th>\n      <td>7.3453e+09</td>\n      <td>1.16571e+10</td>\n      <td>2.90936e+09</td>\n      <td>4.36679e+09</td>\n    </tr>\n    <tr>\n      <th>OperatingExpense</th>\n      <td>1.2355e+10</td>\n      <td>1.2541e+10</td>\n      <td>1.6618e+10</td>\n      <td>1.2259e+10</td>\n    </tr>\n    <tr>\n      <th>OperatingIncome</th>\n      <td>1.8502e+10</td>\n      <td>2.1526e+10</td>\n      <td>1.2062e+10</td>\n      <td>1.3729e+10</td>\n    </tr>\n    <tr>\n      <th>OperatingRevenue</th>\n      <td>7.6589e+10</td>\n      <td>9.5584e+10</td>\n      <td>8.8827e+10</td>\n      <td>1.02895e+11</td>\n    </tr>\n    <tr>\n      <th>OtherGandA</th>\n      <td>2.239e+09</td>\n      <td>2.678e+09</td>\n      <td>3.176e+09</td>\n      <td>3.572e+09</td>\n    </tr>\n    <tr>\n      <th>OtherIncomeExpense</th>\n      <td>-1.85e+08</td>\n      <td>-6.792e+09</td>\n      <td>-3.873e+09</td>\n      <td>-1.154e+10</td>\n    </tr>\n    <tr>\n      <th>OtherNonOperatingIncomeExpenses</th>\n      <td>-7.16e+08</td>\n      <td>-2.043e+09</td>\n      <td>NaN</td>\n      <td>NaN</td>\n    </tr>\n    <tr>\n      <th>OtherOperatingExpenses</th>\n      <td>8.44e+08</td>\n      <td>1.228e+09</td>\n      <td>4.591e+09</td>\n      <td>7.51e+08</td>\n    </tr>\n    <tr>\n      <th>OtherSpecialCharges</th>\n      <td>1.52e+09</td>\n      <td>2.04e+09</td>\n      <td>8.98e+08</td>\n      <td>1.393e+09</td>\n    </tr>\n    <tr>\n      <th>OtherTaxes</th>\n      <td>6.19e+08</td>\n      <td>7.52e+08</td>\n      <td>1.843e+09</td>\n      <td>7.14e+08</td>\n    </tr>\n    <tr>\n      <th>PretaxIncome</th>\n      <td>1.2003e+10</td>\n      <td>1.2098e+10</td>\n      <td>1.997e+09</td>\n      <td>-3.665e+09</td>\n    </tr>\n    <tr>\n      <th>ProvisionForDoubtfulAccounts</th>\n      <td>NaN</td>\n      <td>0</td>\n      <td>NaN</td>\n      <td>NaN</td>\n    </tr>\n    <tr>\n      <th>ReconciledCostOfRevenue</th>\n      <td>3.1054e+10</td>\n      <td>6.1517e+10</td>\n      <td>6.0147e+10</td>\n      <td>5.5417e+10</td>\n    </tr>\n    <tr>\n      <th>ReconciledDepreciation</th>\n      <td>1.4836e+10</td>\n      <td>1.2028e+10</td>\n      <td>1.3307e+10</td>\n      <td>1.3965e+10</td>\n    </tr>\n    <tr>\n      <th>ResearchAndDevelopment</th>\n      <td>5.76e+08</td>\n      <td>6.42e+08</td>\n      <td>5.72e+08</td>\n      <td>5.23e+08</td>\n    </tr>\n    <tr>\n      <th>SalariesAndWages</th>\n      <td>3.443e+09</td>\n      <td>2.61e+09</td>\n      <td>1.898e+09</td>\n      <td>2.736e+09</td>\n    </tr>\n    <tr>\n      <th>SellingAndMarketingExpense</th>\n      <td>4.476e+09</td>\n      <td>4.631e+09</td>\n      <td>4.538e+09</td>\n      <td>3.963e+09</td>\n    </tr>\n    <tr>\n      <th>SellingGeneralAndAdministration</th>\n      <td>1.0158e+10</td>\n      <td>9.919e+09</td>\n      <td>9.612e+09</td>\n      <td>1.0271e+10</td>\n    </tr>\n    <tr>\n      <th>SpecialIncomeCharges</th>\n      <td>3.198e+09</td>\n      <td>-3.685e+09</td>\n      <td>-1.023e+09</td>\n      <td>-7.964e+09</td>\n    </tr>\n    <tr>\n      <th>TaxEffectOfUnusualItems</th>\n      <td>1.323e+08</td>\n      <td>-2.83090e+09</td>\n      <td>-1.54564e+09</td>\n      <td>-2.11721e+09</td>\n    </tr>\n    <tr>\n      <th>TaxProvision</th>\n      <td>4.2e+09</td>\n      <td>4.684e+09</td>\n      <td>1.828e+09</td>\n      <td>6.84e+08</td>\n    </tr>\n    <tr>\n      <th>TaxRateForCalcs</th>\n      <td>0.35</td>\n      <td>0.387</td>\n      <td>0.34</td>\n      <td>0.187</td>\n    </tr>\n    <tr>\n      <th>TotalExpenses</th>\n      <td>5.8087e+10</td>\n      <td>7.4058e+10</td>\n      <td>7.6765e+10</td>\n      <td>6.7676e+10</td>\n    </tr>\n    <tr>\n      <th>TotalOperatingIncomeAsReported</th>\n      <td>2.0614e+10</td>\n      <td>NaN</td>\n      <td>NaN</td>\n      <td>NaN</td>\n    </tr>\n    <tr>\n      <th>TotalOtherFinanceCost</th>\n      <td>-3.65e+08</td>\n      <td>-1.007e+09</td>\n      <td>1.384e+09</td>\n      <td>3.71e+08</td>\n    </tr>\n    <tr>\n      <th>TotalRevenue</th>\n      <td>7.6589e+10</td>\n      <td>9.5584e+10</td>\n      <td>8.8827e+10</td>\n      <td>8.1405e+10</td>\n    </tr>\n    <tr>\n      <th>TotalUnusualItems</th>\n      <td>3.78e+08</td>\n      <td>-7.315e+09</td>\n      <td>-4.546e+09</td>\n      <td>-1.1322e+10</td>\n    </tr>\n    <tr>\n      <th>TotalUnusualItemsExcludingGoodwill</th>\n      <td>3.78e+08</td>\n      <td>-7.315e+09</td>\n      <td>-4.546e+09</td>\n      <td>-1.1322e+10</td>\n    </tr>\n    <tr>\n      <th>WriteOff</th>\n      <td>6.046e+09</td>\n      <td>5.9e+07</td>\n      <td>4.32e+08</td>\n      <td>6.71e+08</td>\n    </tr>\n  </tbody>\n</table>\n</div>"
          },
          "metadata": {},
          "execution_count": 18
        }
      ]
    }
  ],
  "metadata": {
    "colab": {
      "name": "Como extrair dados de ações da Bovespa sem gastar nada com Python.ipynb",
      "provenance": []
    },
    "kernelspec": {
      "name": "python3",
      "display_name": "Python 3"
    }
  },
  "nbformat": 4,
  "nbformat_minor": 0
}